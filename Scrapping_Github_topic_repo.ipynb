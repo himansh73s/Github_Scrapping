{
 "cells": [
  {
   "attachments": {},
   "cell_type": "markdown",
   "id": "236b82e0-8271-4f39-983f-bb892ff0fe6d",
   "metadata": {},
   "source": [
    "# Scraping Top Repositories for Topics on GitHub\n",
    "\n",
    "TODO  (Intro): \n",
    "- Introduction about web scraping\n",
    "- Introduction about GitHub and the problem statement\n",
    "- Mention the tools you're using (Python, requests, Beautiful Soup, Pandas)\n"
   ]
  },
  {
   "attachments": {},
   "cell_type": "markdown",
   "id": "8a881139-7118-42e5-b047-3b78521d7bd9",
   "metadata": {},
   "source": [
    "## Tools Used :\n",
    "- python Request Module: to request to web Page and print response text.\n",
    "- BeautifulSoup library : to scrap and parse info from the web page.\n",
    "- Pandas library : to create dataframe using list.\n"
   ]
  },
  {
   "cell_type": "code",
   "execution_count": null,
   "id": "0faa31a6-3204-4e86-a9fc-131fd7963e82",
   "metadata": {},
   "outputs": [],
   "source": []
  },
  {
   "attachments": {},
   "cell_type": "markdown",
   "id": "aff6c88a-271d-4d94-86b2-0b95f4bae403",
   "metadata": {},
   "source": [
    "Here are the steps we'll follow:\n",
    "\n",
    "- We're going to scrape https://github.com/topics\n",
    "- We'll get a list of topics. For each topic, we'll get topic title, topic page URL and topic description\n",
    "- For each topic, we'll get the top 25 repositories in the topic from the topic page\n",
    "- For each repository, we'll grab the repo name, username, stars and repo URL\n",
    "- For each topic we'll create a CSV file in the following format:\n",
    "\n",
    "```\n",
    "Repo Name,Username,Stars,Repo URL\n",
    "three.js,mrdoob,69700,https://github.com/mrdoob/three.js\n",
    "libgdx,libgdx,18300,https://github.com/libgdx/libgdx\n",
    "```"
   ]
  },
  {
   "cell_type": "code",
   "execution_count": null,
   "id": "2cea33dd-d6ac-4388-810d-ffbda9d52502",
   "metadata": {},
   "outputs": [],
   "source": []
  },
  {
   "attachments": {},
   "cell_type": "markdown",
   "id": "de03ad09-3bd9-4ae6-8308-8bb64c2f7501",
   "metadata": {},
   "source": [
    "## Scrape the list of topics from Github\n",
    "\n",
    "  Explain how you wll do it\n",
    "\n",
    "- use requests to downlaod the page\n",
    "- use BS4 to parse and extract information\n",
    "- convert to a Pandas dataframe\n",
    "\n",
    "Lets write a function to download the page."
   ]
  },
  {
   "cell_type": "code",
   "execution_count": null,
   "id": "9d8f76d8-cbd5-45df-b804-01b7dcfcd89e",
   "metadata": {},
   "outputs": [],
   "source": []
  },
  {
   "cell_type": "code",
   "execution_count": 36,
   "id": "8571229a-ea87-42e7-845e-2646af87049f",
   "metadata": {},
   "outputs": [],
   "source": [
    "import requests\n",
    "from bs4 import BeautifulSoup\n",
    "def get_topic_page():    \n",
    "    topics_url = 'https://github.com/topics'\n",
    "    response = requests.get(topics_url)\n",
    "    if response.status_code!=200:\n",
    "        raise Exception('Failed to Load page{}'.format(topic_url))\n",
    "    \n",
    "    page_contents = (response.text)\n",
    "    doc = BeautifulSoup(page_contents, 'html.parser')\n",
    "    return doc"
   ]
  },
  {
   "cell_type": "code",
   "execution_count": 37,
   "id": "2415ecb7-1ef6-43ca-91c6-fcbd5e0f554f",
   "metadata": {},
   "outputs": [],
   "source": [
    "doc = get_topic_page()"
   ]
  },
  {
   "cell_type": "code",
   "execution_count": 38,
   "id": "48dd7dc0-131f-4f7e-9092-9d59b1c25780",
   "metadata": {},
   "outputs": [
    {
     "data": {
      "text/plain": [
       "bs4.BeautifulSoup"
      ]
     },
     "execution_count": 38,
     "metadata": {},
     "output_type": "execute_result"
    }
   ],
   "source": [
    "type(doc)"
   ]
  },
  {
   "attachments": {
    "04e3c930-0d9a-4720-a001-7a8ffb5ff75f.png": {
     "image/png": "[encoded data removed]"
    },
    "b13180d6-1052-436b-866c-4326b521dbdb.png": {
     "image/png": "[encoded data removed]"
    }
   },
   "cell_type": "markdown",
   "id": "6bd91295-cb83-4162-b1f0-641dd2f24c95",
   "metadata": {},
   "source": [
    "## Lets make some helper function to parse info from the page\n",
    "- TO get topic title of the page, we can pick p tag with class 'f3 lh-condensed mb-0 mt-1 Link--primary'\n",
    "- ![image.png](attachment:04e3c930-0d9a-4720-a001-7a8ffb5ff75f.png)\n",
    "- ![image.png](attachment:b13180d6-1052-436b-866c-4326b521dbdb.png)\n",
    "- "
   ]
  },
  {
   "cell_type": "code",
   "execution_count": 39,
   "id": "fcca771b-b3c6-4572-ab24-0903081f5cb8",
   "metadata": {},
   "outputs": [],
   "source": [
    "def get_topic_title(doc):\n",
    "    title_class = 'f3 lh-condensed mb-0 mt-1 Link--primary'\n",
    "    topic_title_tags = doc.find_all('p', {'class': title_class})\n",
    "    topic_title = []\n",
    "    for tag in topic_title_tags:\n",
    "        topic_title.append(tag.text)\n",
    "    return topic_title\n",
    "\n"
   ]
  },
  {
   "cell_type": "code",
   "execution_count": 40,
   "id": "ca38db53-2b19-42e2-bbb3-9e79d3377656",
   "metadata": {},
   "outputs": [],
   "source": [
    "topics=get_topic_title(doc)"
   ]
  },
  {
   "cell_type": "code",
   "execution_count": 41,
   "id": "2bb74bb7-da69-4590-b85e-0126f48fda45",
   "metadata": {},
   "outputs": [
    {
     "data": {
      "text/plain": [
       "['3D', 'Ajax', 'Algorithm', 'Amp', 'Android']"
      ]
     },
     "execution_count": 41,
     "metadata": {},
     "output_type": "execute_result"
    }
   ],
   "source": [
    "topics[:5]"
   ]
  },
  {
   "cell_type": "code",
   "execution_count": null,
   "id": "1fa024c1-12e2-4bd9-b560-1b7269c5e9d9",
   "metadata": {},
   "outputs": [],
   "source": []
  },
  {
   "cell_type": "code",
   "execution_count": 42,
   "id": "583ef4ac-b289-4577-bcc9-7c145fe8934a",
   "metadata": {},
   "outputs": [],
   "source": [
    "def get_topic_desc(doc):\n",
    "    desc_class = 'f5 color-fg-muted mb-0 mt-1'\n",
    "    topic_desc_tags = doc.find_all('p', {'class': desc_class})\n",
    "    topic_desc = []\n",
    "    for tag in topic_desc_tags:\n",
    "        topic_desc.append(tag.text.strip())\n",
    "    return topic_desc\n",
    "\n"
   ]
  },
  {
   "cell_type": "code",
   "execution_count": 43,
   "id": "43020701-cfde-4096-a3f9-afa529986c4d",
   "metadata": {},
   "outputs": [],
   "source": [
    "def get_topic_url(doc):\n",
    "    url_class = 'no-underline flex-grow-0'\n",
    "    topic_url_tags = doc.find_all('a', {'class': url_class})\n",
    "    topic_url = []\n",
    "    base_url = 'https://github.com'\n",
    "    for tag in topic_url_tags:\n",
    "        topic_url.append(base_url + tag['href'])\n",
    "    return topic_url\n",
    "\n"
   ]
  },
  {
   "attachments": {},
   "cell_type": "markdown",
   "id": "9677d5a7-1ab7-4584-bcbb-031c4b4918f7",
   "metadata": {},
   "source": [
    "## Scrapping the title, desc, url together"
   ]
  },
  {
   "cell_type": "code",
   "execution_count": 70,
   "id": "1d781b5e-02d0-45e0-a551-6f6be6ecf6a0",
   "metadata": {},
   "outputs": [],
   "source": [
    "\n",
    "def scrape_topics():\n",
    "    topics_url = 'https://github.com/topics'\n",
    "    response = requests.get(topics_url)\n",
    "    if response.status_code != 200:\n",
    "        raise Exception('failed to load page')\n",
    "\n",
    "    doc = BeautifulSoup(response.text, 'html.parser')\n",
    "    topic_dict = {\n",
    "        'title': get_topic_title(doc),\n",
    "        'description': get_topic_desc(doc),\n",
    "        'url': get_topic_url(doc),\n",
    "    }\n",
    "\n",
    "    return pd.DataFrame(topic_dict)"
   ]
  },
  {
   "cell_type": "code",
   "execution_count": null,
   "id": "8861c5f8-c201-4e27-b17f-122f5153c395",
   "metadata": {},
   "outputs": [],
   "source": []
  },
  {
   "cell_type": "code",
   "execution_count": null,
   "id": "03ab8049-06c5-442b-9f49-ad964b9cff58",
   "metadata": {},
   "outputs": [],
   "source": []
  },
  {
   "cell_type": "code",
   "execution_count": null,
   "id": "f1ee4909-037a-4ed8-a4ae-f36e87d02ae9",
   "metadata": {},
   "outputs": [],
   "source": []
  },
  {
   "attachments": {},
   "cell_type": "markdown",
   "id": "8afd5ab8-6009-4112-89f3-9e834beeebcd",
   "metadata": {},
   "source": [
    "## For each topic, we'll get the top 20 repositories in the topic from the topic page\n",
    "-To Do Explanation and Steps"
   ]
  },
  {
   "cell_type": "code",
   "execution_count": 58,
   "id": "6525b3b3-27ed-4094-a6ac-045109e59cc0",
   "metadata": {},
   "outputs": [],
   "source": [
    "def get_topic_page(topic_url):\n",
    "    # Download the page\n",
    "    response = requests.get(topic_url)\n",
    "    # Check successful response\n",
    "    if response.status_code != 200:\n",
    "        raise Exception('Failed to load page {}'.format(topic_url))\n",
    "    # Parse using Beautiful soup\n",
    "    topic_doc = BeautifulSoup(response.text, 'html.parser')\n",
    "    return topic_doc"
   ]
  },
  {
   "cell_type": "code",
   "execution_count": 59,
   "id": "2e598789-c468-4d3f-8c49-7f7fc57b5989",
   "metadata": {},
   "outputs": [],
   "source": [
    "doc=get_topic_page('https://github.com/topics/3d')"
   ]
  },
  {
   "attachments": {},
   "cell_type": "markdown",
   "id": "df938ed5-8880-4200-a9c1-58de777817ba",
   "metadata": {},
   "source": [
    "-To Do : about h1 talks that contain repo_name and "
   ]
  },
  {
   "cell_type": "code",
   "execution_count": 47,
   "id": "e171d2c4-a260-48a1-aa5e-4c671fefccfc",
   "metadata": {},
   "outputs": [],
   "source": [
    "def parse_star_count(stars_str):\n",
    "    stars_str = stars_str.strip()\n",
    "    if stars_str[-1] == 'k':\n",
    "      return int(float(stars_str[:-1])*1000)\n",
    "    return int(stars_str)"
   ]
  },
  {
   "cell_type": "code",
   "execution_count": 48,
   "id": "6b9d597e-21e3-42d0-a92a-ea44ed93f103",
   "metadata": {},
   "outputs": [],
   "source": [
    "def get_rep_info(h3_tag, star_tag):\n",
    "    a_tags = h3_tag.find_all('a')\n",
    "    username = a_tags[0].text.strip()\n",
    "    repo_name = a_tags[1].text.strip()\n",
    "    repo_url =  base_url + a_tags[1] ['href']\n",
    "    star_count = parse_star_count(star_tag.text.strip())\n",
    "    return username, repo_name, star_count , repo_url\n"
   ]
  },
  {
   "attachments": {},
   "cell_type": "markdown",
   "id": "4cd0f36a-831f-4c3e-9f29-43447405dbf8",
   "metadata": {},
   "source": [
    "TODO: Show an example"
   ]
  },
  {
   "cell_type": "code",
   "execution_count": 49,
   "id": "b9198f03-e9c4-465e-9165-085a6a6301a9",
   "metadata": {},
   "outputs": [],
   "source": [
    "def get_topic_repo(topic_doc):\n",
    "    h1_selection_class = 'f3 color-fg-muted text-normal lh-condensed'\n",
    "    repo_tag = topic_doc.find_all('h3',{ 'class' : h1_selection_class })\n",
    "\n",
    "    star_tags = topic_doc.find_all('span' , {'class' : 'Counter js-social-count'})\n",
    "\n",
    "    topic_repo_dict = {\n",
    "    'username' : [] ,\n",
    "    'repo_name' : [] ,\n",
    "    'star' : [] ,\n",
    "    'repo_url' : []\n",
    "   }\n",
    "    for i in range(len(repo_tag)):\n",
    "      repo_info = get_rep_info(repo_tag[i] , star_tags[i])\n",
    "      topic_repo_dict['username'].append(repo_info[0])\n",
    "      topic_repo_dict['repo_name'].append(repo_info[1])\n",
    "      topic_repo_dict['star'].append(repo_info[2])\n",
    "      topic_repo_dict['repo_url'].append(repo_info[3])\n",
    "\n",
    "    return pd.DataFrame(topic_repo_dict)\n"
   ]
  },
  {
   "attachments": {},
   "cell_type": "markdown",
   "id": "6c7f0665-2669-4a2d-8e2f-2235260a4771",
   "metadata": {},
   "source": [
    "TODO : Show an example"
   ]
  },
  {
   "cell_type": "code",
   "execution_count": 50,
   "id": "ed13e815-dffa-44e6-b319-e675ddb65b23",
   "metadata": {},
   "outputs": [],
   "source": [
    "\n",
    "def scrape_topic(topic_url , path):\n",
    "    \n",
    "    if os.path.exists(path):\n",
    "        print(\"the filename {} already exists skipping....\".format(path))\n",
    "        return \n",
    "        topic_df = get_topic_repo(get_topic_page(topic_url))\n",
    "        topic_df.to_csv(path , index=None)"
   ]
  },
  {
   "attachments": {},
   "cell_type": "markdown",
   "id": "5f8dee23-582f-4ee5-b02d-067ed4834f47",
   "metadata": {},
   "source": [
    "## Putting it all together\n",
    "- we have function that scrap topic list from the webpage\n",
    "- we have function that scrap repo from each topic\n",
    "- now ,lets bind them together"
   ]
  },
  {
   "cell_type": "code",
   "execution_count": 64,
   "id": "ae7f02fb-5dd4-488b-a8d7-84a22b1d65f2",
   "metadata": {},
   "outputs": [],
   "source": [
    "def scrape_topic_repos():\n",
    "    print('Scraping list of topics')\n",
    "    topics_df = scrape_topics()\n",
    "    \n",
    "    os.makedirs('data', exist_ok=True)\n",
    "    for index, row in topics_df.iterrows():\n",
    "        print('Scraping top repositories for \"{}\"'.format(row['title']))\n",
    "        scrape_topic(row['url'], 'data/{}.csv'.format(row['title']))"
   ]
  },
  {
   "cell_type": "code",
   "execution_count": 67,
   "id": "28809cfc-52e3-472e-bce6-59571efd9fe4",
   "metadata": {},
   "outputs": [
    {
     "name": "stdout",
     "output_type": "stream",
     "text": [
      "Scraping list of topics\n",
      "Scraping top repositories for \"3D\"\n",
      "Scraping top repositories for \"Ajax\"\n",
      "Scraping top repositories for \"Algorithm\"\n",
      "Scraping top repositories for \"Amp\"\n",
      "Scraping top repositories for \"Android\"\n",
      "Scraping top repositories for \"Angular\"\n",
      "Scraping top repositories for \"Ansible\"\n",
      "Scraping top repositories for \"API\"\n",
      "Scraping top repositories for \"Arduino\"\n",
      "Scraping top repositories for \"ASP.NET\"\n",
      "Scraping top repositories for \"Atom\"\n",
      "Scraping top repositories for \"Awesome Lists\"\n",
      "Scraping top repositories for \"Amazon Web Services\"\n",
      "Scraping top repositories for \"Azure\"\n",
      "Scraping top repositories for \"Babel\"\n",
      "Scraping top repositories for \"Bash\"\n",
      "Scraping top repositories for \"Bitcoin\"\n",
      "Scraping top repositories for \"Bootstrap\"\n",
      "Scraping top repositories for \"Bot\"\n",
      "Scraping top repositories for \"C\"\n",
      "Scraping top repositories for \"Chrome\"\n",
      "Scraping top repositories for \"Chrome extension\"\n",
      "Scraping top repositories for \"Command line interface\"\n",
      "Scraping top repositories for \"Clojure\"\n",
      "Scraping top repositories for \"Code quality\"\n",
      "Scraping top repositories for \"Code review\"\n",
      "Scraping top repositories for \"Compiler\"\n",
      "Scraping top repositories for \"Continuous integration\"\n",
      "Scraping top repositories for \"COVID-19\"\n",
      "Scraping top repositories for \"C++\"\n"
     ]
    }
   ],
   "source": [
    "scrape_topic_repos()"
   ]
  },
  {
   "cell_type": "code",
   "execution_count": null,
   "id": "7cb22a30-7553-46f4-9fb3-c68372106bfd",
   "metadata": {},
   "outputs": [],
   "source": []
  },
  {
   "attachments": {},
   "cell_type": "markdown",
   "id": "df22c0a9-b226-4530-8f95-a056729738d4",
   "metadata": {},
   "source": [
    "## References and Future Work\n",
    "\n",
    "Summary of what we did\n",
    "\n",
    "- ?\n",
    "- ?\n",
    "\n",
    "\n",
    "References to links you found useful\n",
    "\n",
    "- ?\n",
    "- ?\n",
    " \n",
    "Ideas for future work\n",
    "\n",
    "- ?\n",
    "- ?"
   ]
  },
  {
   "cell_type": "code",
   "execution_count": null,
   "id": "ec5578dd-bd30-49cd-ada3-e0b5bcd14370",
   "metadata": {},
   "outputs": [],
   "source": []
  },
  {
   "cell_type": "code",
   "execution_count": null,
   "id": "6d8f183c-00a8-467b-8d3b-a736cddae941",
   "metadata": {},
   "outputs": [],
   "source": []
  },
  {
   "cell_type": "code",
   "execution_count": null,
   "id": "88012371-b5bd-4e4e-afda-e3a226996eae",
   "metadata": {},
   "outputs": [],
   "source": []
  },
  {
   "cell_type": "code",
   "execution_count": null,
   "id": "aaf365f3-33b1-49ad-a8d0-154754b57ba9",
   "metadata": {},
   "outputs": [],
   "source": []
  },
  {
   "cell_type": "code",
   "execution_count": null,
   "id": "228d5551-c670-4b2a-9e06-79eee45fde47",
   "metadata": {},
   "outputs": [],
   "source": []
  },
  {
   "cell_type": "code",
   "execution_count": null,
   "id": "407a7573-2f6f-44db-9b88-cc697f8100eb",
   "metadata": {},
   "outputs": [],
   "source": []
  }
 ],
 "metadata": {
  "kernelspec": {
   "display_name": "Python 3 (ipykernel)",
   "language": "python",
   "name": "python3"
  },
  "language_info": {
   "codemirror_mode": {
    "name": "ipython",
    "version": 3
   },
   "file_extension": ".py",
   "mimetype": "text/x-python",
   "name": "python",
   "nbconvert_exporter": "python",
   "pygments_lexer": "ipython3",
   "version": "3.11.4"
  }
 },
 "nbformat": 4,
 "nbformat_minor": 5
}
